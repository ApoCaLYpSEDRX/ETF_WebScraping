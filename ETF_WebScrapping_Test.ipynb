{
 "cells": [
  {
   "cell_type": "code",
   "execution_count": 56,
   "metadata": {
    "collapsed": true
   },
   "outputs": [],
   "source": [
    "symbol = [\"XLF\",\"SPY\",\"GDX\",\"VXX\",\"EEM\"]"
   ]
  },
  {
   "cell_type": "code",
   "execution_count": 57,
   "metadata": {
    "collapsed": true
   },
   "outputs": [],
   "source": [
    "from urllib.request import urlopen\n",
    "from bs4 import BeautifulSoup\n",
    "import pymongo\n",
    "import time\n",
    "\n",
    "## Using \"Chay_db\" Database \n",
    "client = pymongo.MongoClient()\n",
    "db = client.Chay_db"
   ]
  },
  {
   "cell_type": "code",
   "execution_count": 58,
   "metadata": {
    "collapsed": false
   },
   "outputs": [],
   "source": [
    "for sym in symbol:\n",
    "    url = \"http://etfdb.com/etf/\"+ sym\n",
    "    html = urlopen(url)\n",
    "    h_code = BeautifulSoup(html, 'html.parser')\n",
    "    \n",
    "    ### web scraping Vitals Section\n",
    "    Info = h_code.findAll(\"ul\", {\"class\": \"list-unstyled\"})\n",
    "    Info_2 = h_code.findAll(\"div\", {\"id\":\"barchart-trading-data\"})\n",
    "    \n",
    "    cont1 =Info[0].findAll(\"span\",{\"class\":\"pull-right\"})\n",
    "    cont2 =Info[0].findAll(\"span\",{\"class\":None})\n",
    "    \n",
    "    vit_dict = {}\n",
    "    for i in  list(range(8)):\n",
    "        key = cont2[i-1].text.replace(\":\",\"\")\n",
    "        value = cont1[i-1].text\n",
    "        vit_dict[key]=value\n",
    "    \n",
    "    ### web scraping Trading Data Section\n",
    "    TD_dict = {}\n",
    "    cont4 = Info_2[0].findAll(\"td\")\n",
    "    cont4=[i.text.replace(\":\",\"\") for i in cont4]\n",
    "    \n",
    "    cont3=Info[1].findAll(\"span\")\n",
    "    cont3=[i.text.replace(\":\",\"\") for i in cont3]\n",
    "    \n",
    "    cont5=Info[2].findAll(\"span\")\n",
    "    cont5=[i.text.replace(\":\",\"\") for i in cont5]\n",
    "    \n",
    "    TD_dict = [{\"Date\":time.strftime(\"%x\"),\"Dat\":{cont4[0]:cont4[1],cont4[2]:cont4[3],\n",
    "                                                  cont4[4]:cont4[5],cont4[6]:cont4[7],\n",
    "                                                  cont3[0]:cont3[1],cont3[2]:cont3[3],\n",
    "                                                  cont5[0]:cont5[1],cont5[2]:cont5[3]}}]\n",
    "    ### Insert into MongoDB\n",
    "    data={\"Symbol\":sym,\"Vitals\":vit_dict,\"Trading_Data\":TD_dict}\n",
    "    ### Put it in ETF_test Collection\n",
    "    db.ETF_test.insert_one(data)\n"
   ]
  },
  {
   "cell_type": "markdown",
   "metadata": {},
   "source": [
    "# To Update Trading Data"
   ]
  },
  {
   "cell_type": "code",
   "execution_count": null,
   "metadata": {
    "collapsed": true
   },
   "outputs": [],
   "source": [
    "client = pymongo.MongoClient()\n",
    "db = client.Chay_db"
   ]
  },
  {
   "cell_type": "code",
   "execution_count": 59,
   "metadata": {
    "collapsed": false
   },
   "outputs": [
    {
     "name": "stdout",
     "output_type": "stream",
     "text": [
      "The XLF Trading Data Has been already updated\n",
      "The SPY Trading Data Has been already updated\n",
      "The GDX Trading Data Has been already updated\n",
      "The VXX Trading Data Has been already updated\n",
      "The EEM Trading Data Has been already updated\n"
     ]
    }
   ],
   "source": [
    "for sym in symbol:\n",
    "    url = \"http://etfdb.com/etf/\"+ sym\n",
    "    html = urlopen(url)\n",
    "    h_code = BeautifulSoup(html, 'html.parser')\n",
    "    \n",
    "    TD_dict = {}\n",
    "    lastest = list(db.ETF_test.find({\"Symbol\":sym},{\"Trading_Data.Date\":1,\"_id\":0}))[0][\"Trading_Data\"]\n",
    "    lastest = [i[\"Date\"] for i in lastest]\n",
    "    if time.strftime(\"%x\") in lastest:\n",
    "        print(\"The \" + sym + \" Trading Data Has been already updated\")\n",
    "    else:\n",
    "        cont4 = Info_2[0].findAll(\"td\")\n",
    "        cont4=[i.text.replace(\":\",\"\") for i in cont4]\n",
    "    \n",
    "        cont3=Info[1].findAll(\"span\")\n",
    "        cont3=[i.text.replace(\":\",\"\") for i in cont3]\n",
    "    \n",
    "        cont5=Info[2].findAll(\"span\")\n",
    "        cont5=[i.text.replace(\":\",\"\") for i in cont5]\n",
    "    \n",
    "        Lat_TDdict = [{\"Date\":time.strftime(\"%x\"),\"Dat\":{cont4[0]:cont4[1],cont4[2]:cont4[3],\n",
    "                                                             cont4[4]:cont4[5],cont4[6]:cont4[7],\n",
    "                                                             cont3[0]:cont3[1],cont3[2]:cont3[3],\n",
    "                                                             cont5[0]:cont5[1],cont5[2]:cont5[3]}}]\n",
    "        db.ETF_test.update_one({\"Symbol\":sym},{\"$push\":{\"Trading_Data\":Lat_TDdict}})\n",
    "        print(\"Finish Updating \" + sym + \"Trading Data\")\n",
    "    "
   ]
  }
 ],
 "metadata": {
  "kernelspec": {
   "display_name": "Python [conda root]",
   "language": "python",
   "name": "conda-root-py"
  },
  "language_info": {
   "codemirror_mode": {
    "name": "ipython",
    "version": 3
   },
   "file_extension": ".py",
   "mimetype": "text/x-python",
   "name": "python",
   "nbconvert_exporter": "python",
   "pygments_lexer": "ipython3",
   "version": "3.5.2"
  }
 },
 "nbformat": 4,
 "nbformat_minor": 1
}
